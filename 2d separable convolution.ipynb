{
 "cells": [
  {
   "cell_type": "markdown",
   "metadata": {},
   "source": [
    "# 2D Separable Convolution"
   ]
  },
  {
   "cell_type": "code",
   "execution_count": 7,
   "metadata": {},
   "outputs": [
    {
     "name": "stdout",
     "output_type": "stream",
     "text": [
      "[[2160. 2880. 2880. ... 2889. 2883. 2160.]\n",
      " [2880. 3840. 3840. ... 3852. 3844. 2880.]\n",
      " [2880. 3840. 3840. ... 3852. 3844. 2880.]\n",
      " ...\n",
      " [2458. 3295. 3293. ... 3253. 3327. 2521.]\n",
      " [2465. 3304. 3333. ... 3345. 3397. 2559.]\n",
      " [1851. 2469. 2474. ... 2547. 2573. 1929.]]\n"
     ]
    }
   ],
   "source": [
    "import numpy as np\n",
    "import cv2 as cv\n",
    "def conv2d_sep(x,x_p,h1):\n",
    "    y = np.zeros((x.shape[0],x.shape[1]))\n",
    "    for j in range(x.shape[0]):\n",
    "        for i in range(x.shape[1]):\n",
    "        \n",
    "            k = x_p[j:h1.shape[0]+j,i:i+1]\n",
    "\n",
    "            y[j,i] = np.matmul(k.T,h1)\n",
    "    return(y)\n",
    "\n",
    "def padd_up(x,n):\n",
    "    return(np.pad(x, [(n, n), (0, 0)], mode='constant'))\n",
    "\n",
    "# x = np.array([[10,20,30],\n",
    "#              [40,50,60],\n",
    "#              [70,80,90]])\n",
    "x = cv.imread('blox.jpg', cv.IMREAD_GRAYSCALE)\n",
    "h = np.array([[1, 2, 1],\n",
    "              [2, 4, 2],\n",
    "              [1, 2, 1]])\n",
    "\n",
    "h1 = np.array([[1,2,1]])\n",
    "h1 = h1.T\n",
    "h2 = np.array([[1,2,1]])\n",
    "h2 = h2.T\n",
    "# h_f = np.matmul(h1,h2)\n",
    "\n",
    "n = int((h.shape[0]-1)/2)  # pad length\n",
    "\n",
    "x_p = padd_up(x,n) # input padded\n",
    "\n",
    "y_first = conv2d_sep(x,x_p,h1) # matrix multiplication\n",
    "\n",
    "y_f_pad = y_first.T\n",
    "\n",
    "y_f_pad = padd_up(y_f_pad,n)\n",
    "\n",
    "y_final = conv2d_sep(y_first.T,y_f_pad,h2)\n",
    "\n",
    "y_final = y_final.T\n",
    "print(y_final)\n",
    "\n"
   ]
  }
 ],
 "metadata": {
  "kernelspec": {
   "display_name": "Python 3",
   "language": "python",
   "name": "python3"
  },
  "language_info": {
   "codemirror_mode": {
    "name": "ipython",
    "version": 3
   },
   "file_extension": ".py",
   "mimetype": "text/x-python",
   "name": "python",
   "nbconvert_exporter": "python",
   "pygments_lexer": "ipython3",
   "version": "3.6.4"
  }
 },
 "nbformat": 4,
 "nbformat_minor": 2
}
