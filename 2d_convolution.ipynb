{
 "cells": [
  {
   "cell_type": "markdown",
   "metadata": {},
   "source": [
    "# 2D convolution using Toplitz Matrix"
   ]
  },
  {
   "cell_type": "code",
   "execution_count": 2,
   "metadata": {},
   "outputs": [
    {
     "name": "stdout",
     "output_type": "stream",
     "text": [
      "resultant Vector: \n",
      "[[ 240.  720.  960. ...  961.  720.  240.]\n",
      " [ 720. 2160. 2880. ... 2883. 2160.  720.]\n",
      " [ 960. 2880. 3840. ... 3844. 2880.  960.]\n",
      " ...\n",
      " [ 820. 2465. 3304. ... 3397. 2559.  852.]\n",
      " [ 617. 1851. 2469. ... 2573. 1929.  642.]\n",
      " [ 205.  615.  820. ...  859.  643.  214.]]\n"
     ]
    }
   ],
   "source": [
    "import numpy as np\n",
    "import cv2 as cv\n",
    "\n",
    "def pad_shift(h_s,n1):\n",
    "    \n",
    "    for i in range(n1-1):\n",
    "      \n",
    "        h_g = np.pad(h_s,((i+1,0),(0,0)), 'constant')\n",
    "        h_s = np.hstack((h_s,h_g[0:h_s.shape[0],0:1]))\n",
    "    return h_s\n",
    "\n",
    "# stack the array rows in reverse order(instead of 0,1,2 to 2,1,0) \n",
    "def reverse_row_order(g,h,h_res):\n",
    "    for i in reversed(range(h_res-1)):\n",
    "    \n",
    "        z = h[i,:]\n",
    "        g = np.vstack((g,z))\n",
    "    return g\n",
    "\n",
    "#m = np.array([[1, 4, 1, 4], [2, 5, 3, 6], [1, 1, 3, 4], [2, 6, 3, 8]])\n",
    "m=cv.imread('blox.jpg',cv.IMREAD_GRAYSCALE)\n",
    "#m = np.array([[1,4,1],\n",
    "       #         [2,5,3]])\n",
    "\n",
    "h = np.array([[1, 2, 1],\n",
    "             [2, 4, 2],\n",
    "             [1, 2, 1]])\n",
    "m1 = m.shape[0]\n",
    "m2 = h.shape[0]\n",
    "n1 = m.shape[1]\n",
    "n2 = h.shape[1]\n",
    "\n",
    "h_res = m1+m2-1\n",
    "w_res = n1+n2-1\n",
    "\n",
    "#g = np.zeros((h_res,w_res))\n",
    "\n",
    "h = np.pad(h,((h_res-m2,0),(0,w_res-n2)), 'constant',constant_values=0)\n",
    "\n",
    "g = h[h_res-1,:]\n",
    "g = reverse_row_order(g,h,h_res)\n",
    "   \n",
    "#h_f = np.reshape(g,(12,1))\n",
    "g = g.T\n",
    "\n",
    "k_i = np.reshape(g[:,0],(w_res,1))\n",
    "\n",
    "h_1 = pad_shift(k_i,n1)\n",
    "\n",
    "for i in range (w_res-1):\n",
    "    #print(i)\n",
    "    k = np.reshape(g[:,i+1],(w_res,1))\n",
    "    h_t = pad_shift(k,n1)\n",
    "    \n",
    "    \n",
    "    h_1 = np.vstack((h_1,h_t))\n",
    "\n",
    "zer_m = np.zeros((w_res,n1))\n",
    "\n",
    "for j in range(m1-1):\n",
    "    \n",
    "    h_n = h_1[0:h_res*w_res-w_res,j*n1:j*n1+n1]\n",
    "    \n",
    "    h_f = np.vstack((zer_m,h_n))\n",
    "    \n",
    "    h_1 = np.concatenate((h_1,h_f),axis=1)\n",
    "    \n",
    "I = np.flipud(m)\n",
    "I = np.reshape(I,(m1*n1,1))\n",
    "\n",
    "result_vector = np.matmul(h_1, I)\n",
    "\n",
    "result_vector = np.reshape(result_vector,(h_res,w_res))\n",
    "r_v = result_vector[h_res-1:h_res,:]\n",
    "\n",
    "r_v = reverse_row_order(r_v,result_vector,h_res)\n",
    "\n",
    "#print(\"Toplitz Matrix: \")\n",
    "#print(h_1)\n",
    "print(\"resultant Vector: \")\n",
    "print(r_v)"
   ]
  }
 ],
 "metadata": {
  "kernelspec": {
   "display_name": "Python 3",
   "language": "python",
   "name": "python3"
  },
  "language_info": {
   "codemirror_mode": {
    "name": "ipython",
    "version": 3
   },
   "file_extension": ".py",
   "mimetype": "text/x-python",
   "name": "python",
   "nbconvert_exporter": "python",
   "pygments_lexer": "ipython3",
   "version": "3.6.4"
  }
 },
 "nbformat": 4,
 "nbformat_minor": 2
}
